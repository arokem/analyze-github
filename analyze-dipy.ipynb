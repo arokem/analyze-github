{
 "metadata": {
  "name": ""
 },
 "nbformat": 3,
 "nbformat_minor": 0,
 "worksheets": [
  {
   "cells": [
    {
     "cell_type": "code",
     "collapsed": false,
     "input": [
      "import git\n",
      "import pandas as pd\n",
      "import matplotlib.dates as mdates\n",
      "import datetime"
     ],
     "language": "python",
     "metadata": {},
     "outputs": [
      {
       "output_type": "stream",
       "stream": "stderr",
       "text": [
        "/Applications/Canopy.app/appdata/canopy-1.0.3.1262.macosx-x86_64/Canopy.app/Contents/lib/python2.7/site-packages/pytz/__init__.py:35: UserWarning: Module argparse was already imported from /Applications/Canopy.app/appdata/canopy-1.0.3.1262.macosx-x86_64/Canopy.app/Contents/lib/python2.7/argparse.pyc, but /Users/arokem/Library/Enthought/Canopy_64bit/User/lib/python2.7/site-packages is being added to sys.path\n",
        "  from pkg_resources import resource_stream\n"
       ]
      }
     ],
     "prompt_number": 1
    },
    {
     "cell_type": "code",
     "collapsed": false,
     "input": [
      "years    = mdates.YearLocator()   # every year\n",
      "months   = mdates.MonthLocator()  # every month\n",
      "yearsFmt = mdates.DateFormatter('%Y')"
     ],
     "language": "python",
     "metadata": {},
     "outputs": [],
     "prompt_number": 2
    },
    {
     "cell_type": "code",
     "collapsed": false,
     "input": [
      "repo_dir = '/Users/arokem/source/dipy/'"
     ],
     "language": "python",
     "metadata": {},
     "outputs": [],
     "prompt_number": 3
    },
    {
     "cell_type": "code",
     "collapsed": false,
     "input": [
      "R = git.Repo(repo_dir)"
     ],
     "language": "python",
     "metadata": {},
     "outputs": [],
     "prompt_number": 4
    },
    {
     "cell_type": "code",
     "collapsed": false,
     "input": [
      "log = R.log()"
     ],
     "language": "python",
     "metadata": {},
     "outputs": [],
     "prompt_number": 5
    },
    {
     "cell_type": "code",
     "collapsed": false,
     "input": [
      "c = log[-1]"
     ],
     "language": "python",
     "metadata": {},
     "outputs": [],
     "prompt_number": 6
    },
    {
     "cell_type": "code",
     "collapsed": false,
     "input": [
      "dd = {}\n",
      "time = []\n",
      "author = []\n",
      "n_authors = 0\n",
      "cum_authors = []\n",
      "duplicate_authors = {'Ariel Rokem': ['Ariel Rokem', 'arokem'], \n",
      "                     'Bago Amirbekian': ['MrBago', 'Bago Amirbekian'],\n",
      "                     'Christopher Nguyen': ['Christopher Nguyen', 'Christopher'],\n",
      "                     'Ian Nimmo-Smith': ['Ian Nimmo-Smith', 'iannimmosmith'],\n",
      "                     'Maxime Descoteaux' : ['Maxime Descoteaux', 'mdesco'],\n",
      "                     'Eleftherios Garyfallidis': ['Eleftherios Garyfallidis', 'Dipy Developers']}\n",
      "\n",
      "for c in log[-1::-1]:\n",
      "    time.append(datetime.datetime(c.committed_date.tm_year, c.committed_date.tm_mon, c.committed_date.tm_mday))\n",
      "    author = c.committer.name\n",
      "    duplicate = False\n",
      "    for k in duplicate_authors:\n",
      "        if author in duplicate_authors[k]:\n",
      "            author = k\n",
      "\n",
      "    if dd.has_key(author):\n",
      "        dd[author]+=1\n",
      "    else:\n",
      "        n_authors +=1\n",
      "        dd[author] = 1\n",
      "    cum_authors.append(n_authors)\n"
     ],
     "language": "python",
     "metadata": {},
     "outputs": [],
     "prompt_number": 8
    },
    {
     "cell_type": "code",
     "collapsed": false,
     "input": [
      "dd"
     ],
     "language": "python",
     "metadata": {},
     "outputs": [
      {
       "metadata": {},
       "output_type": "pyout",
       "prompt_number": 9,
       "text": [
        "{'Ariel Rokem': 273,\n",
        " 'Bago Amirbekian': 285,\n",
        " 'Christopher Nguyen': 53,\n",
        " 'Eleftherios Garyfallidis': 936,\n",
        " 'Emanuele Olivetti': 5,\n",
        " 'Emmanuel Caruyer': 3,\n",
        " 'Erik Ziegler': 11,\n",
        " 'Ian Nimmo-Smith': 145,\n",
        " 'Jean-Christophe Houde': 1,\n",
        " 'Maria Luisa Mandelli': 1,\n",
        " 'Matthew Brett': 432,\n",
        " 'Matthias Ekman': 3,\n",
        " 'Matthieu Dumont': 62,\n",
        " 'Maxime Descoteaux': 18,\n",
        " 'Michael Paquette': 5,\n",
        " 'Samuel St-Jean': 39,\n",
        " 'Stefan van der Walt': 75,\n",
        " 'Yaroslav Halchenko': 7,\n",
        " 'endolith': 4,\n",
        " 'smerlet': 1}"
       ]
      }
     ],
     "prompt_number": 9
    },
    {
     "cell_type": "code",
     "collapsed": false,
     "input": [
      "tags = R.tags[:2]\n",
      "\n",
      "tag_times = [datetime.datetime(t.commit.committed_date.tm_year, \n",
      "                               t.commit.committed_date.tm_mon, \n",
      "                               t.commit.committed_date.tm_mday) for t in tags]"
     ],
     "language": "python",
     "metadata": {},
     "outputs": [],
     "prompt_number": 18
    },
    {
     "cell_type": "code",
     "collapsed": false,
     "input": [
      "ts = pd.Series(cum_authors, index=time)"
     ],
     "language": "python",
     "metadata": {},
     "outputs": [],
     "prompt_number": 10
    },
    {
     "cell_type": "code",
     "collapsed": false,
     "input": [
      "fig, ax = plt.subplots(1)\n",
      "ax = ts.plot(use_index=True)\n",
      "ax.figure.autofmt_xdate()\n",
      "ax.set_ylim([0,21])\n",
      "ax.arrow(tag_times[0], 2, 0, -2)\n",
      "ax.text(tag_times[0], 2.5, 'rel0.5', horizontalalignment='center')\n",
      "ax.arrow(tag_times[1], 2, 0, -2)\n",
      "ax.text(tag_times[1], 2.5, 'rel0.6', horizontalalignment='center')"
     ],
     "language": "python",
     "metadata": {},
     "outputs": [
      {
       "metadata": {},
       "output_type": "pyout",
       "prompt_number": 39,
       "text": [
        "<matplotlib.text.Text at 0x110769b10>"
       ]
      },
      {
       "metadata": {},
       "output_type": "display_data",
       "png": "[encoded data removed]",
       "text": [
        "<matplotlib.figure.Figure at 0x1101f68d0>"
       ]
      }
     ],
     "prompt_number": 39
    }
   ],
   "metadata": {}
  }
 ]
}